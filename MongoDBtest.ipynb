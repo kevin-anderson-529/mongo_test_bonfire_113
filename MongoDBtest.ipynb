{
 "cells": [
  {
   "cell_type": "code",
   "execution_count": 16,
   "metadata": {},
   "outputs": [],
   "source": [
    "#imports\n",
    "import pandas as pd\n",
    "from pymongo import MongoClient"
   ]
  },
  {
   "cell_type": "code",
   "execution_count": 17,
   "metadata": {},
   "outputs": [
    {
     "name": "stdout",
     "output_type": "stream",
     "text": [
      "  school sex  age address famsize Pstatus  Medu  Fedu     Mjob      Fjob  ...  \\\n",
      "0     GP   F   18       U     GT3       A     4     4  at_home   teacher  ...   \n",
      "1     GP   F   17       U     GT3       T     1     1  at_home     other  ...   \n",
      "2     GP   F   15       U     LE3       T     1     1  at_home     other  ...   \n",
      "3     GP   F   15       U     GT3       T     4     2   health  services  ...   \n",
      "4     GP   F   16       U     GT3       T     3     3    other     other  ...   \n",
      "\n",
      "  famrel freetime  goout  Dalc  Walc health absences  G1  G2  G3  \n",
      "0      4        3      4     1     1      3        6   5   6   6  \n",
      "1      5        3      3     1     1      3        4   5   5   6  \n",
      "2      4        3      2     2     3      3       10   7   8  10  \n",
      "3      3        2      2     1     1      5        2  15  14  15  \n",
      "4      4        3      2     1     2      5        4   6  10  10  \n",
      "\n",
      "[5 rows x 33 columns]\n"
     ]
    }
   ],
   "source": [
    "def load_and_clean_data():\n",
    "    student_mat = pd.read_csv(r\"C:\\Users\\kevin\\OneDrive\\Desktop\\Coding Temple\\Week 6 (Tableau) + Pipeline\\MongoDB\\student-mat.csv\", delimiter=\";\")\n",
    "    student_por = pd.read_csv(r\"C:\\Users\\kevin\\OneDrive\\Desktop\\Coding Temple\\Week 6 (Tableau) + Pipeline\\MongoDB\\student-por.csv\", delimiter=\";\")\n",
    "\n",
    "    # Merge the datasets\n",
    "    student_data = pd.concat([student_mat, student_por], axis=0, ignore_index=True)\n",
    "\n",
    "    # Display headers\n",
    "    print(student_data.head())\n",
    "\n",
    "    return student_data\n",
    "\n",
    "# Call the function to load and display the data\n",
    "student_data = load_and_clean_data()"
   ]
  },
  {
   "cell_type": "code",
   "execution_count": 18,
   "metadata": {},
   "outputs": [
    {
     "name": "stdout",
     "output_type": "stream",
     "text": [
      "     school sex  age address famsize Pstatus  Medu  Fedu      Mjob      Fjob  \\\n",
      "0        GP   F   18       U     GT3       A     4     4   at_home   teacher   \n",
      "1        GP   F   17       U     GT3       T     1     1   at_home     other   \n",
      "2        GP   F   15       U     LE3       T     1     1   at_home     other   \n",
      "3        GP   F   15       U     GT3       T     4     2    health  services   \n",
      "4        GP   F   16       U     GT3       T     3     3     other     other   \n",
      "...     ...  ..  ...     ...     ...     ...   ...   ...       ...       ...   \n",
      "1039     MS   F   19       R     GT3       T     2     3  services     other   \n",
      "1040     MS   F   18       U     LE3       T     3     1   teacher  services   \n",
      "1041     MS   F   18       U     GT3       T     1     1     other     other   \n",
      "1042     MS   M   17       U     LE3       T     3     1  services  services   \n",
      "1043     MS   M   18       R     LE3       T     3     2  services     other   \n",
      "\n",
      "      ... famrel freetime  goout  Dalc  Walc health absences  G1  G2  G3  \n",
      "0     ...      4        3      4     1     1      3        6   5   6   6  \n",
      "1     ...      5        3      3     1     1      3        4   5   5   6  \n",
      "2     ...      4        3      2     2     3      3       10   7   8  10  \n",
      "3     ...      3        2      2     1     1      5        2  15  14  15  \n",
      "4     ...      4        3      2     1     2      5        4   6  10  10  \n",
      "...   ...    ...      ...    ...   ...   ...    ...      ...  ..  ..  ..  \n",
      "1039  ...      5        4      2     1     2      5        4  10  11  10  \n",
      "1040  ...      4        3      4     1     1      1        4  15  15  16  \n",
      "1041  ...      1        1      1     1     1      5        6  11  12   9  \n",
      "1042  ...      2        4      5     3     4      2        6  10  10  10  \n",
      "1043  ...      4        4      1     3     4      5        4  10  11  11  \n",
      "\n",
      "[1044 rows x 33 columns]\n"
     ]
    }
   ],
   "source": [
    "# Clean data\n",
    "\n",
    "# Remove duplicate entries\n",
    "student_data.drop_duplicates(inplace=True)\n",
    "\n",
    "print(student_data)"
   ]
  },
  {
   "cell_type": "code",
   "execution_count": 21,
   "metadata": {},
   "outputs": [],
   "source": [
    "# Connect to MongoDB\n",
    "\n",
    "def insert_data_to_mongodb(data, connection_string):\n",
    "    client = MongoClient(connection_string)\n",
    "\n",
    "    # Database and collection\n",
    "    db = client[\"student_performance_db\"]\n",
    "    collection = db[\"student_data\"]\n",
    "\n",
    "    # Convert to dictionary\n",
    "    data_dict = data.to_dict(\"records\")\n",
    "\n",
    "    # Insert into MongoDB\n",
    "    collection.insert_many(data_dict)\n",
    "\n",
    "    # Close the MongoDB client\n",
    "    client.close()\n",
    "\n"
   ]
  },
  {
   "cell_type": "code",
   "execution_count": 22,
   "metadata": {},
   "outputs": [
    {
     "ename": "OperationFailure",
     "evalue": "bad auth : authentication failed, full error: {'ok': 0, 'errmsg': 'bad auth : authentication failed', 'code': 8000, 'codeName': 'AtlasError'}",
     "output_type": "error",
     "traceback": [
      "\u001b[1;31m---------------------------------------------------------------------------\u001b[0m",
      "\u001b[1;31mOperationFailure\u001b[0m                          Traceback (most recent call last)",
      "Cell \u001b[1;32mIn[22], line 5\u001b[0m\n\u001b[0;32m      1\u001b[0m \u001b[39m# Call to insert data to Mongo\u001b[39;00m\n\u001b[0;32m      3\u001b[0m mongodb_connection_string \u001b[39m=\u001b[39m \u001b[39m\"\u001b[39m\u001b[39mmongodb+srv://kevinanderson0529:<$gi7b!8a4AjYM.V>@cluster0.ntavb27.mongodb.net/?retryWrites=true&w=majority\u001b[39m\u001b[39m\"\u001b[39m\n\u001b[1;32m----> 5\u001b[0m insert_data_to_mongodb(student_data, mongodb_connection_string)\n",
      "Cell \u001b[1;32mIn[21], line 14\u001b[0m, in \u001b[0;36minsert_data_to_mongodb\u001b[1;34m(data, connection_string)\u001b[0m\n\u001b[0;32m     11\u001b[0m data_dict \u001b[39m=\u001b[39m data\u001b[39m.\u001b[39mto_dict(\u001b[39m\"\u001b[39m\u001b[39mrecords\u001b[39m\u001b[39m\"\u001b[39m)\n\u001b[0;32m     13\u001b[0m \u001b[39m# Insert into MongoDB\u001b[39;00m\n\u001b[1;32m---> 14\u001b[0m collection\u001b[39m.\u001b[39;49minsert_many(data_dict)\n\u001b[0;32m     16\u001b[0m \u001b[39m# Close the MongoDB client\u001b[39;00m\n\u001b[0;32m     17\u001b[0m client\u001b[39m.\u001b[39mclose()\n",
      "File \u001b[1;32m~\\AppData\\Roaming\\Python\\Python311\\site-packages\\pymongo\\_csot.py:105\u001b[0m, in \u001b[0;36mapply.<locals>.csot_wrapper\u001b[1;34m(self, *args, **kwargs)\u001b[0m\n\u001b[0;32m    103\u001b[0m         \u001b[39mwith\u001b[39;00m _TimeoutContext(timeout):\n\u001b[0;32m    104\u001b[0m             \u001b[39mreturn\u001b[39;00m func(\u001b[39mself\u001b[39m, \u001b[39m*\u001b[39margs, \u001b[39m*\u001b[39m\u001b[39m*\u001b[39mkwargs)\n\u001b[1;32m--> 105\u001b[0m \u001b[39mreturn\u001b[39;00m func(\u001b[39mself\u001b[39;49m, \u001b[39m*\u001b[39;49margs, \u001b[39m*\u001b[39;49m\u001b[39m*\u001b[39;49mkwargs)\n",
      "File \u001b[1;32m~\\AppData\\Roaming\\Python\\Python311\\site-packages\\pymongo\\collection.py:714\u001b[0m, in \u001b[0;36mCollection.insert_many\u001b[1;34m(self, documents, ordered, bypass_document_validation, session, comment)\u001b[0m\n\u001b[0;32m    712\u001b[0m blk \u001b[39m=\u001b[39m _Bulk(\u001b[39mself\u001b[39m, ordered, bypass_document_validation, comment\u001b[39m=\u001b[39mcomment)\n\u001b[0;32m    713\u001b[0m blk\u001b[39m.\u001b[39mops \u001b[39m=\u001b[39m [doc \u001b[39mfor\u001b[39;00m doc \u001b[39min\u001b[39;00m gen()]\n\u001b[1;32m--> 714\u001b[0m blk\u001b[39m.\u001b[39;49mexecute(write_concern, session\u001b[39m=\u001b[39;49msession)\n\u001b[0;32m    715\u001b[0m \u001b[39mreturn\u001b[39;00m InsertManyResult(inserted_ids, write_concern\u001b[39m.\u001b[39macknowledged)\n",
      "File \u001b[1;32m~\\AppData\\Roaming\\Python\\Python311\\site-packages\\pymongo\\bulk.py:513\u001b[0m, in \u001b[0;36m_Bulk.execute\u001b[1;34m(self, write_concern, session)\u001b[0m\n\u001b[0;32m    511\u001b[0m         \u001b[39mself\u001b[39m\u001b[39m.\u001b[39mexecute_no_results(sock_info, generator, write_concern)\n\u001b[0;32m    512\u001b[0m \u001b[39melse\u001b[39;00m:\n\u001b[1;32m--> 513\u001b[0m     \u001b[39mreturn\u001b[39;00m \u001b[39mself\u001b[39;49m\u001b[39m.\u001b[39;49mexecute_command(generator, write_concern, session)\n",
      "File \u001b[1;32m~\\AppData\\Roaming\\Python\\Python311\\site-packages\\pymongo\\bulk.py:391\u001b[0m, in \u001b[0;36m_Bulk.execute_command\u001b[1;34m(self, generator, write_concern, session)\u001b[0m\n\u001b[0;32m    389\u001b[0m client \u001b[39m=\u001b[39m \u001b[39mself\u001b[39m\u001b[39m.\u001b[39mcollection\u001b[39m.\u001b[39mdatabase\u001b[39m.\u001b[39mclient\n\u001b[0;32m    390\u001b[0m \u001b[39mwith\u001b[39;00m client\u001b[39m.\u001b[39m_tmp_session(session) \u001b[39mas\u001b[39;00m s:\n\u001b[1;32m--> 391\u001b[0m     client\u001b[39m.\u001b[39;49m_retry_with_session(\u001b[39mself\u001b[39;49m\u001b[39m.\u001b[39;49mis_retryable, retryable_bulk, s, \u001b[39mself\u001b[39;49m)\n\u001b[0;32m    393\u001b[0m \u001b[39mif\u001b[39;00m full_result[\u001b[39m\"\u001b[39m\u001b[39mwriteErrors\u001b[39m\u001b[39m\"\u001b[39m] \u001b[39mor\u001b[39;00m full_result[\u001b[39m\"\u001b[39m\u001b[39mwriteConcernErrors\u001b[39m\u001b[39m\"\u001b[39m]:\n\u001b[0;32m    394\u001b[0m     _raise_bulk_write_error(full_result)\n",
      "File \u001b[1;32m~\\AppData\\Roaming\\Python\\Python311\\site-packages\\pymongo\\mongo_client.py:1349\u001b[0m, in \u001b[0;36mMongoClient._retry_with_session\u001b[1;34m(self, retryable, func, session, bulk)\u001b[0m\n\u001b[0;32m   1339\u001b[0m \u001b[39m\u001b[39m\u001b[39m\"\"\"Execute an operation with at most one consecutive retries\u001b[39;00m\n\u001b[0;32m   1340\u001b[0m \n\u001b[0;32m   1341\u001b[0m \u001b[39mReturns func()'s return value on success. On error retries the same\u001b[39;00m\n\u001b[1;32m   (...)\u001b[0m\n\u001b[0;32m   1344\u001b[0m \u001b[39mRe-raises any exception thrown by func().\u001b[39;00m\n\u001b[0;32m   1345\u001b[0m \u001b[39m\"\"\"\u001b[39;00m\n\u001b[0;32m   1346\u001b[0m retryable \u001b[39m=\u001b[39m (\n\u001b[0;32m   1347\u001b[0m     retryable \u001b[39mand\u001b[39;00m \u001b[39mself\u001b[39m\u001b[39m.\u001b[39moptions\u001b[39m.\u001b[39mretry_writes \u001b[39mand\u001b[39;00m session \u001b[39mand\u001b[39;00m \u001b[39mnot\u001b[39;00m session\u001b[39m.\u001b[39min_transaction\n\u001b[0;32m   1348\u001b[0m )\n\u001b[1;32m-> 1349\u001b[0m \u001b[39mreturn\u001b[39;00m \u001b[39mself\u001b[39;49m\u001b[39m.\u001b[39;49m_retry_internal(retryable, func, session, bulk)\n",
      "File \u001b[1;32m~\\AppData\\Roaming\\Python\\Python311\\site-packages\\pymongo\\_csot.py:105\u001b[0m, in \u001b[0;36mapply.<locals>.csot_wrapper\u001b[1;34m(self, *args, **kwargs)\u001b[0m\n\u001b[0;32m    103\u001b[0m         \u001b[39mwith\u001b[39;00m _TimeoutContext(timeout):\n\u001b[0;32m    104\u001b[0m             \u001b[39mreturn\u001b[39;00m func(\u001b[39mself\u001b[39m, \u001b[39m*\u001b[39margs, \u001b[39m*\u001b[39m\u001b[39m*\u001b[39mkwargs)\n\u001b[1;32m--> 105\u001b[0m \u001b[39mreturn\u001b[39;00m func(\u001b[39mself\u001b[39;49m, \u001b[39m*\u001b[39;49margs, \u001b[39m*\u001b[39;49m\u001b[39m*\u001b[39;49mkwargs)\n",
      "File \u001b[1;32m~\\AppData\\Roaming\\Python\\Python311\\site-packages\\pymongo\\mongo_client.py:1381\u001b[0m, in \u001b[0;36mMongoClient._retry_internal\u001b[1;34m(self, retryable, func, session, bulk)\u001b[0m\n\u001b[0;32m   1377\u001b[0m server \u001b[39m=\u001b[39m \u001b[39mself\u001b[39m\u001b[39m.\u001b[39m_select_server(writable_server_selector, session)\n\u001b[0;32m   1378\u001b[0m supports_session \u001b[39m=\u001b[39m (\n\u001b[0;32m   1379\u001b[0m     session \u001b[39mis\u001b[39;00m \u001b[39mnot\u001b[39;00m \u001b[39mNone\u001b[39;00m \u001b[39mand\u001b[39;00m server\u001b[39m.\u001b[39mdescription\u001b[39m.\u001b[39mretryable_writes_supported\n\u001b[0;32m   1380\u001b[0m )\n\u001b[1;32m-> 1381\u001b[0m \u001b[39mwith\u001b[39;49;00m \u001b[39mself\u001b[39;49m\u001b[39m.\u001b[39;49m_get_socket(server, session) \u001b[39mas\u001b[39;49;00m sock_info:\n\u001b[0;32m   1382\u001b[0m     max_wire_version \u001b[39m=\u001b[39;49m sock_info\u001b[39m.\u001b[39;49mmax_wire_version\n\u001b[0;32m   1383\u001b[0m     \u001b[39mif\u001b[39;49;00m retryable \u001b[39mand\u001b[39;49;00m \u001b[39mnot\u001b[39;49;00m supports_session:\n",
      "File \u001b[1;32mc:\\Program Files\\Python311\\Lib\\contextlib.py:137\u001b[0m, in \u001b[0;36m_GeneratorContextManager.__enter__\u001b[1;34m(self)\u001b[0m\n\u001b[0;32m    135\u001b[0m \u001b[39mdel\u001b[39;00m \u001b[39mself\u001b[39m\u001b[39m.\u001b[39margs, \u001b[39mself\u001b[39m\u001b[39m.\u001b[39mkwds, \u001b[39mself\u001b[39m\u001b[39m.\u001b[39mfunc\n\u001b[0;32m    136\u001b[0m \u001b[39mtry\u001b[39;00m:\n\u001b[1;32m--> 137\u001b[0m     \u001b[39mreturn\u001b[39;00m \u001b[39mnext\u001b[39m(\u001b[39mself\u001b[39m\u001b[39m.\u001b[39mgen)\n\u001b[0;32m    138\u001b[0m \u001b[39mexcept\u001b[39;00m \u001b[39mStopIteration\u001b[39;00m:\n\u001b[0;32m    139\u001b[0m     \u001b[39mraise\u001b[39;00m \u001b[39mRuntimeError\u001b[39;00m(\u001b[39m\"\u001b[39m\u001b[39mgenerator didn\u001b[39m\u001b[39m'\u001b[39m\u001b[39mt yield\u001b[39m\u001b[39m\"\u001b[39m) \u001b[39mfrom\u001b[39;00m \u001b[39mNone\u001b[39m\n",
      "File \u001b[1;32m~\\AppData\\Roaming\\Python\\Python311\\site-packages\\pymongo\\mongo_client.py:1217\u001b[0m, in \u001b[0;36mMongoClient._get_socket\u001b[1;34m(self, server, session)\u001b[0m\n\u001b[0;32m   1215\u001b[0m     \u001b[39myield\u001b[39;00m session\u001b[39m.\u001b[39m_pinned_connection\n\u001b[0;32m   1216\u001b[0m     \u001b[39mreturn\u001b[39;00m\n\u001b[1;32m-> 1217\u001b[0m \u001b[39mwith\u001b[39;49;00m server\u001b[39m.\u001b[39;49mget_socket(handler\u001b[39m=\u001b[39;49merr_handler) \u001b[39mas\u001b[39;49;00m sock_info:\n\u001b[0;32m   1218\u001b[0m     \u001b[39m# Pin this session to the selected server or connection.\u001b[39;49;00m\n\u001b[0;32m   1219\u001b[0m     \u001b[39mif\u001b[39;49;00m in_txn \u001b[39mand\u001b[39;49;00m server\u001b[39m.\u001b[39;49mdescription\u001b[39m.\u001b[39;49mserver_type \u001b[39min\u001b[39;49;00m (\n\u001b[0;32m   1220\u001b[0m         SERVER_TYPE\u001b[39m.\u001b[39;49mMongos,\n\u001b[0;32m   1221\u001b[0m         SERVER_TYPE\u001b[39m.\u001b[39;49mLoadBalancer,\n\u001b[0;32m   1222\u001b[0m     ):\n\u001b[0;32m   1223\u001b[0m         session\u001b[39m.\u001b[39;49m_pin(server, sock_info)\n",
      "File \u001b[1;32mc:\\Program Files\\Python311\\Lib\\contextlib.py:137\u001b[0m, in \u001b[0;36m_GeneratorContextManager.__enter__\u001b[1;34m(self)\u001b[0m\n\u001b[0;32m    135\u001b[0m \u001b[39mdel\u001b[39;00m \u001b[39mself\u001b[39m\u001b[39m.\u001b[39margs, \u001b[39mself\u001b[39m\u001b[39m.\u001b[39mkwds, \u001b[39mself\u001b[39m\u001b[39m.\u001b[39mfunc\n\u001b[0;32m    136\u001b[0m \u001b[39mtry\u001b[39;00m:\n\u001b[1;32m--> 137\u001b[0m     \u001b[39mreturn\u001b[39;00m \u001b[39mnext\u001b[39m(\u001b[39mself\u001b[39m\u001b[39m.\u001b[39mgen)\n\u001b[0;32m    138\u001b[0m \u001b[39mexcept\u001b[39;00m \u001b[39mStopIteration\u001b[39;00m:\n\u001b[0;32m    139\u001b[0m     \u001b[39mraise\u001b[39;00m \u001b[39mRuntimeError\u001b[39;00m(\u001b[39m\"\u001b[39m\u001b[39mgenerator didn\u001b[39m\u001b[39m'\u001b[39m\u001b[39mt yield\u001b[39m\u001b[39m\"\u001b[39m) \u001b[39mfrom\u001b[39;00m \u001b[39mNone\u001b[39m\n",
      "File \u001b[1;32m~\\AppData\\Roaming\\Python\\Python311\\site-packages\\pymongo\\pool.py:1407\u001b[0m, in \u001b[0;36mPool.get_socket\u001b[1;34m(self, handler)\u001b[0m\n\u001b[0;32m   1404\u001b[0m \u001b[39mif\u001b[39;00m \u001b[39mself\u001b[39m\u001b[39m.\u001b[39menabled_for_cmap:\n\u001b[0;32m   1405\u001b[0m     listeners\u001b[39m.\u001b[39mpublish_connection_check_out_started(\u001b[39mself\u001b[39m\u001b[39m.\u001b[39maddress)\n\u001b[1;32m-> 1407\u001b[0m sock_info \u001b[39m=\u001b[39m \u001b[39mself\u001b[39;49m\u001b[39m.\u001b[39;49m_get_socket(handler\u001b[39m=\u001b[39;49mhandler)\n\u001b[0;32m   1409\u001b[0m \u001b[39mif\u001b[39;00m \u001b[39mself\u001b[39m\u001b[39m.\u001b[39menabled_for_cmap:\n\u001b[0;32m   1410\u001b[0m     listeners\u001b[39m.\u001b[39mpublish_connection_checked_out(\u001b[39mself\u001b[39m\u001b[39m.\u001b[39maddress, sock_info\u001b[39m.\u001b[39mid)\n",
      "File \u001b[1;32m~\\AppData\\Roaming\\Python\\Python311\\site-packages\\pymongo\\pool.py:1520\u001b[0m, in \u001b[0;36mPool._get_socket\u001b[1;34m(self, handler)\u001b[0m\n\u001b[0;32m   1518\u001b[0m \u001b[39melse\u001b[39;00m:  \u001b[39m# We need to create a new connection\u001b[39;00m\n\u001b[0;32m   1519\u001b[0m     \u001b[39mtry\u001b[39;00m:\n\u001b[1;32m-> 1520\u001b[0m         sock_info \u001b[39m=\u001b[39m \u001b[39mself\u001b[39;49m\u001b[39m.\u001b[39;49mconnect(handler\u001b[39m=\u001b[39;49mhandler)\n\u001b[0;32m   1521\u001b[0m     \u001b[39mfinally\u001b[39;00m:\n\u001b[0;32m   1522\u001b[0m         \u001b[39mwith\u001b[39;00m \u001b[39mself\u001b[39m\u001b[39m.\u001b[39m_max_connecting_cond:\n",
      "File \u001b[1;32m~\\AppData\\Roaming\\Python\\Python311\\site-packages\\pymongo\\pool.py:1378\u001b[0m, in \u001b[0;36mPool.connect\u001b[1;34m(self, handler)\u001b[0m\n\u001b[0;32m   1375\u001b[0m     \u001b[39mif\u001b[39;00m handler:\n\u001b[0;32m   1376\u001b[0m         handler\u001b[39m.\u001b[39mcontribute_socket(sock_info, completed_handshake\u001b[39m=\u001b[39m\u001b[39mFalse\u001b[39;00m)\n\u001b[1;32m-> 1378\u001b[0m     sock_info\u001b[39m.\u001b[39;49mauthenticate()\n\u001b[0;32m   1379\u001b[0m \u001b[39mexcept\u001b[39;00m \u001b[39mBaseException\u001b[39;00m:\n\u001b[0;32m   1380\u001b[0m     sock_info\u001b[39m.\u001b[39mclose_socket(ConnectionClosedReason\u001b[39m.\u001b[39mERROR)\n",
      "File \u001b[1;32m~\\AppData\\Roaming\\Python\\Python311\\site-packages\\pymongo\\pool.py:870\u001b[0m, in \u001b[0;36mSocketInfo.authenticate\u001b[1;34m(self)\u001b[0m\n\u001b[0;32m    868\u001b[0m creds \u001b[39m=\u001b[39m \u001b[39mself\u001b[39m\u001b[39m.\u001b[39mopts\u001b[39m.\u001b[39m_credentials\n\u001b[0;32m    869\u001b[0m \u001b[39mif\u001b[39;00m creds:\n\u001b[1;32m--> 870\u001b[0m     auth\u001b[39m.\u001b[39;49mauthenticate(creds, \u001b[39mself\u001b[39;49m)\n\u001b[0;32m    871\u001b[0m \u001b[39mself\u001b[39m\u001b[39m.\u001b[39mready \u001b[39m=\u001b[39m \u001b[39mTrue\u001b[39;00m\n\u001b[0;32m    872\u001b[0m \u001b[39mif\u001b[39;00m \u001b[39mself\u001b[39m\u001b[39m.\u001b[39menabled_for_cmap:\n",
      "File \u001b[1;32m~\\AppData\\Roaming\\Python\\Python311\\site-packages\\pymongo\\auth.py:549\u001b[0m, in \u001b[0;36mauthenticate\u001b[1;34m(credentials, sock_info)\u001b[0m\n\u001b[0;32m    547\u001b[0m mechanism \u001b[39m=\u001b[39m credentials\u001b[39m.\u001b[39mmechanism\n\u001b[0;32m    548\u001b[0m auth_func \u001b[39m=\u001b[39m _AUTH_MAP[mechanism]\n\u001b[1;32m--> 549\u001b[0m auth_func(credentials, sock_info)\n",
      "File \u001b[1;32m~\\AppData\\Roaming\\Python\\Python311\\site-packages\\pymongo\\auth.py:475\u001b[0m, in \u001b[0;36m_authenticate_default\u001b[1;34m(credentials, sock_info)\u001b[0m\n\u001b[0;32m    473\u001b[0m         \u001b[39mreturn\u001b[39;00m _authenticate_scram(credentials, sock_info, \u001b[39m\"\u001b[39m\u001b[39mSCRAM-SHA-256\u001b[39m\u001b[39m\"\u001b[39m)\n\u001b[0;32m    474\u001b[0m     \u001b[39melse\u001b[39;00m:\n\u001b[1;32m--> 475\u001b[0m         \u001b[39mreturn\u001b[39;00m _authenticate_scram(credentials, sock_info, \u001b[39m\"\u001b[39;49m\u001b[39mSCRAM-SHA-1\u001b[39;49m\u001b[39m\"\u001b[39;49m)\n\u001b[0;32m    476\u001b[0m \u001b[39melse\u001b[39;00m:\n\u001b[0;32m    477\u001b[0m     \u001b[39mreturn\u001b[39;00m _authenticate_scram(credentials, sock_info, \u001b[39m\"\u001b[39m\u001b[39mSCRAM-SHA-1\u001b[39m\u001b[39m\"\u001b[39m)\n",
      "File \u001b[1;32m~\\AppData\\Roaming\\Python\\Python311\\site-packages\\pymongo\\auth.py:241\u001b[0m, in \u001b[0;36m_authenticate_scram\u001b[1;34m(credentials, sock_info, mechanism)\u001b[0m\n\u001b[0;32m    232\u001b[0m server_sig \u001b[39m=\u001b[39m standard_b64encode(_hmac(server_key, auth_msg, digestmod)\u001b[39m.\u001b[39mdigest())\n\u001b[0;32m    234\u001b[0m cmd \u001b[39m=\u001b[39m SON(\n\u001b[0;32m    235\u001b[0m     [\n\u001b[0;32m    236\u001b[0m         (\u001b[39m\"\u001b[39m\u001b[39msaslContinue\u001b[39m\u001b[39m\"\u001b[39m, \u001b[39m1\u001b[39m),\n\u001b[1;32m   (...)\u001b[0m\n\u001b[0;32m    239\u001b[0m     ]\n\u001b[0;32m    240\u001b[0m )\n\u001b[1;32m--> 241\u001b[0m res \u001b[39m=\u001b[39m sock_info\u001b[39m.\u001b[39;49mcommand(source, cmd)\n\u001b[0;32m    243\u001b[0m parsed \u001b[39m=\u001b[39m _parse_scram_response(res[\u001b[39m\"\u001b[39m\u001b[39mpayload\u001b[39m\u001b[39m\"\u001b[39m])\n\u001b[0;32m    244\u001b[0m \u001b[39mif\u001b[39;00m \u001b[39mnot\u001b[39;00m hmac\u001b[39m.\u001b[39mcompare_digest(parsed[\u001b[39mb\u001b[39m\u001b[39m\"\u001b[39m\u001b[39mv\u001b[39m\u001b[39m\"\u001b[39m], server_sig):\n",
      "File \u001b[1;32m~\\AppData\\Roaming\\Python\\Python311\\site-packages\\pymongo\\pool.py:767\u001b[0m, in \u001b[0;36mSocketInfo.command\u001b[1;34m(self, dbname, spec, read_preference, codec_options, check, allowable_errors, read_concern, write_concern, parse_write_concern_error, collation, session, client, retryable_write, publish_events, user_fields, exhaust_allowed)\u001b[0m\n\u001b[0;32m    765\u001b[0m     \u001b[39mself\u001b[39m\u001b[39m.\u001b[39m_raise_if_not_writable(unacknowledged)\n\u001b[0;32m    766\u001b[0m \u001b[39mtry\u001b[39;00m:\n\u001b[1;32m--> 767\u001b[0m     \u001b[39mreturn\u001b[39;00m command(\n\u001b[0;32m    768\u001b[0m         \u001b[39mself\u001b[39;49m,\n\u001b[0;32m    769\u001b[0m         dbname,\n\u001b[0;32m    770\u001b[0m         spec,\n\u001b[0;32m    771\u001b[0m         \u001b[39mself\u001b[39;49m\u001b[39m.\u001b[39;49mis_mongos,\n\u001b[0;32m    772\u001b[0m         read_preference,\n\u001b[0;32m    773\u001b[0m         codec_options,\n\u001b[0;32m    774\u001b[0m         session,\n\u001b[0;32m    775\u001b[0m         client,\n\u001b[0;32m    776\u001b[0m         check,\n\u001b[0;32m    777\u001b[0m         allowable_errors,\n\u001b[0;32m    778\u001b[0m         \u001b[39mself\u001b[39;49m\u001b[39m.\u001b[39;49maddress,\n\u001b[0;32m    779\u001b[0m         listeners,\n\u001b[0;32m    780\u001b[0m         \u001b[39mself\u001b[39;49m\u001b[39m.\u001b[39;49mmax_bson_size,\n\u001b[0;32m    781\u001b[0m         read_concern,\n\u001b[0;32m    782\u001b[0m         parse_write_concern_error\u001b[39m=\u001b[39;49mparse_write_concern_error,\n\u001b[0;32m    783\u001b[0m         collation\u001b[39m=\u001b[39;49mcollation,\n\u001b[0;32m    784\u001b[0m         compression_ctx\u001b[39m=\u001b[39;49m\u001b[39mself\u001b[39;49m\u001b[39m.\u001b[39;49mcompression_context,\n\u001b[0;32m    785\u001b[0m         use_op_msg\u001b[39m=\u001b[39;49m\u001b[39mself\u001b[39;49m\u001b[39m.\u001b[39;49mop_msg_enabled,\n\u001b[0;32m    786\u001b[0m         unacknowledged\u001b[39m=\u001b[39;49munacknowledged,\n\u001b[0;32m    787\u001b[0m         user_fields\u001b[39m=\u001b[39;49muser_fields,\n\u001b[0;32m    788\u001b[0m         exhaust_allowed\u001b[39m=\u001b[39;49mexhaust_allowed,\n\u001b[0;32m    789\u001b[0m         write_concern\u001b[39m=\u001b[39;49mwrite_concern,\n\u001b[0;32m    790\u001b[0m     )\n\u001b[0;32m    791\u001b[0m \u001b[39mexcept\u001b[39;00m (OperationFailure, NotPrimaryError):\n\u001b[0;32m    792\u001b[0m     \u001b[39mraise\u001b[39;00m\n",
      "File \u001b[1;32m~\\AppData\\Roaming\\Python\\Python311\\site-packages\\pymongo\\network.py:166\u001b[0m, in \u001b[0;36mcommand\u001b[1;34m(sock_info, dbname, spec, is_mongos, read_preference, codec_options, session, client, check, allowable_errors, address, listeners, max_bson_size, read_concern, parse_write_concern_error, collation, compression_ctx, use_op_msg, unacknowledged, user_fields, exhaust_allowed, write_concern)\u001b[0m\n\u001b[0;32m    164\u001b[0m             client\u001b[39m.\u001b[39m_process_response(response_doc, session)\n\u001b[0;32m    165\u001b[0m         \u001b[39mif\u001b[39;00m check:\n\u001b[1;32m--> 166\u001b[0m             helpers\u001b[39m.\u001b[39;49m_check_command_response(\n\u001b[0;32m    167\u001b[0m                 response_doc,\n\u001b[0;32m    168\u001b[0m                 sock_info\u001b[39m.\u001b[39;49mmax_wire_version,\n\u001b[0;32m    169\u001b[0m                 allowable_errors,\n\u001b[0;32m    170\u001b[0m                 parse_write_concern_error\u001b[39m=\u001b[39;49mparse_write_concern_error,\n\u001b[0;32m    171\u001b[0m             )\n\u001b[0;32m    172\u001b[0m \u001b[39mexcept\u001b[39;00m \u001b[39mException\u001b[39;00m \u001b[39mas\u001b[39;00m exc:\n\u001b[0;32m    173\u001b[0m     \u001b[39mif\u001b[39;00m publish:\n",
      "File \u001b[1;32m~\\AppData\\Roaming\\Python\\Python311\\site-packages\\pymongo\\helpers.py:181\u001b[0m, in \u001b[0;36m_check_command_response\u001b[1;34m(response, max_wire_version, allowable_errors, parse_write_concern_error)\u001b[0m\n\u001b[0;32m    178\u001b[0m \u001b[39melif\u001b[39;00m code \u001b[39m==\u001b[39m \u001b[39m43\u001b[39m:\n\u001b[0;32m    179\u001b[0m     \u001b[39mraise\u001b[39;00m CursorNotFound(errmsg, code, response, max_wire_version)\n\u001b[1;32m--> 181\u001b[0m \u001b[39mraise\u001b[39;00m OperationFailure(errmsg, code, response, max_wire_version)\n",
      "\u001b[1;31mOperationFailure\u001b[0m: bad auth : authentication failed, full error: {'ok': 0, 'errmsg': 'bad auth : authentication failed', 'code': 8000, 'codeName': 'AtlasError'}"
     ]
    }
   ],
   "source": [
    "# Call to insert data to Mongo\n",
    "\n",
    "mongodb_connection_string = \"mongodb+srv://kevinanderson0529:<$gi7b!8a4AjYM.V>@cluster0.ntavb27.mongodb.net/?retryWrites=true&w=majority\"\n",
    "\n",
    "insert_data_to_mongodb(student_data, mongodb_connection_string)\n"
   ]
  }
 ],
 "metadata": {
  "kernelspec": {
   "display_name": "Python 3",
   "language": "python",
   "name": "python3"
  },
  "language_info": {
   "codemirror_mode": {
    "name": "ipython",
    "version": 3
   },
   "file_extension": ".py",
   "mimetype": "text/x-python",
   "name": "python",
   "nbconvert_exporter": "python",
   "pygments_lexer": "ipython3",
   "version": "3.11.2"
  },
  "orig_nbformat": 4
 },
 "nbformat": 4,
 "nbformat_minor": 2
}
